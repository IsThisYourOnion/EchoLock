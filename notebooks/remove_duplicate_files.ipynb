{
 "cells": [
  {
   "cell_type": "code",
   "execution_count": 2,
   "id": "bcc012d6",
   "metadata": {},
   "outputs": [
    {
     "name": "stdout",
     "output_type": "stream",
     "text": [
      "No duplicate files found.\n"
     ]
    }
   ],
   "source": [
    "import os\n",
    "\n",
    "def find_duplicate_files(negative_cases_dir, positive_cases_dir):\n",
    "    # List all file names in the negative_cases directory\n",
    "    negative_cases_files = set(os.listdir(negative_cases_dir))\n",
    "    \n",
    "    # List all file names in the positive_cases directory\n",
    "    positive_cases_files = os.listdir(positive_cases_dir)\n",
    "    \n",
    "    # Initialize a list to hold the names of duplicate files\n",
    "    duplicates = []\n",
    "    \n",
    "    # Iterate through positive_cases_files and check for duplicates in negative_cases_files\n",
    "    for file in positive_cases_files:\n",
    "        if file in negative_cases_files:\n",
    "            # If a duplicate is found, add it to the duplicates list\n",
    "            duplicates.append(file)\n",
    "    \n",
    "    # Check if any duplicates were found\n",
    "    if duplicates:\n",
    "        print(\"Duplicate files found:\")\n",
    "        for file in duplicates:\n",
    "            print(file)\n",
    "    else:\n",
    "        print(\"No duplicate files found.\")\n",
    "\n",
    "# Define the directories\n",
    "negative_cases_dir = '/Users/adamkirstein/Code/EchoLock/data/negative_cases'\n",
    "positive_cases_dir = '/Users/adamkirstein/Code/EchoLock/data/positive_cases'\n",
    "\n",
    "# Call the function to find and list duplicate files\n",
    "find_duplicate_files(negative_cases_dir, positive_cases_dir)\n"
   ]
  },
  {
   "cell_type": "code",
   "execution_count": null,
   "id": "05b2bcf4",
   "metadata": {},
   "outputs": [],
   "source": []
  }
 ],
 "metadata": {
  "kernelspec": {
   "display_name": "Python 3 (ipykernel)",
   "language": "python",
   "name": "python3"
  },
  "language_info": {
   "codemirror_mode": {
    "name": "ipython",
    "version": 3
   },
   "file_extension": ".py",
   "mimetype": "text/x-python",
   "name": "python",
   "nbconvert_exporter": "python",
   "pygments_lexer": "ipython3",
   "version": "3.11.7"
  }
 },
 "nbformat": 4,
 "nbformat_minor": 5
}
