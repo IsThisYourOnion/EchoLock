{
 "cells": [
  {
   "cell_type": "code",
   "execution_count": 10,
   "id": "7f639ca1",
   "metadata": {},
   "outputs": [
    {
     "name": "stdout",
     "output_type": "stream",
     "text": [
      "Total files copied: 2148\n",
      "All files were found and copied.\n",
      "Original files and directories have been successfully removed.\n"
     ]
    }
   ],
   "source": [
    "import pandas as pd\n",
    "import shutil\n",
    "import os\n",
    "import uuid\n",
    "\n",
    "# Define paths\n",
    "metadata_path = '/Users/adamkirstein/Code/EchoLock/data/edge-collected-gunshot-audio/gunshot-audio-all-metadata.csv'\n",
    "base_dir = '/Users/adamkirstein/Code/EchoLock/data/edge-collected-gunshot-audio/edge-collected-gunshot-audio'\n",
    "destination_dir = '/Users/adamkirstein/Code/EchoLock/data/positive_cases'\n",
    "\n",
    "if not os.path.exists(destination_dir):\n",
    "    os.makedirs(destination_dir)\n",
    "\n",
    "# Load the metadata CSV\n",
    "metadata_df = pd.read_csv(metadata_path)\n",
    "\n",
    "# Detect and handle duplicates (just in case uuid dupes across folders)\n",
    "duplicates = metadata_df[metadata_df.duplicated(subset=['filename'], keep=False)]\n",
    "for _, duplicate in duplicates.iterrows():\n",
    "    new_uuid = str(uuid.uuid4())\n",
    "    metadata_df.loc[metadata_df['uuid'] == duplicate['uuid'], 'uuid'] = new_uuid  # Update UUID in the dataframe\n",
    "\n",
    "# Save the updated metadata to a new CSV to preserve changes\n",
    "updated_metadata_path = os.path.join(destination_dir, 'updated_gunshot-audio-all-metadata.csv')\n",
    "metadata_df.to_csv(updated_metadata_path, index=False)\n",
    "\n",
    "def copy_files_and_handle_duplicates(metadata_df, base_dir, destination_dir):\n",
    "    files_not_found = []\n",
    "    files_copied_count = 0\n",
    "\n",
    "    for _, row in metadata_df.iterrows():\n",
    "        file_name = row['filename'] + '.wav'\n",
    "        file_copied = False\n",
    "\n",
    "        for root, dirs, files in os.walk(base_dir):\n",
    "            if file_name in files:\n",
    "                source_file_path = os.path.join(root, file_name)\n",
    "                shutil.copy(source_file_path, os.path.join(destination_dir, file_name))\n",
    "                files_copied_count += 1\n",
    "                file_copied = True\n",
    "                break\n",
    "\n",
    "        if not file_copied:\n",
    "            files_not_found.append(file_name)\n",
    "\n",
    "    return files_not_found, files_copied_count\n",
    "\n",
    "files_not_found, files_copied_count = copy_files_and_handle_duplicates(metadata_df, base_dir, destination_dir)\n",
    "\n",
    "print(f\"Total files copied: {files_copied_count}\")\n",
    "if files_not_found:\n",
    "    print(f\"Files not found: {len(files_not_found)}\")\n",
    "else:\n",
    "    print(\"All files were found and copied.\")\n",
    "\n",
    "#delete the original directories and files\n",
    "if not files_not_found and files_copied_count == len(metadata_df):\n",
    "    shutil.rmtree(base_dir)\n",
    "    os.remove(metadata_path)  \n",
    "    print(f\"Original files and directories have been successfully removed.\")\n",
    "else:\n",
    "    print(\"Review missing files before taking further action.\")\n"
   ]
  },
  {
   "cell_type": "code",
   "execution_count": null,
   "id": "589a9e9c",
   "metadata": {},
   "outputs": [],
   "source": []
  }
 ],
 "metadata": {
  "kernelspec": {
   "display_name": "Python 3 (ipykernel)",
   "language": "python",
   "name": "python3"
  },
  "language_info": {
   "codemirror_mode": {
    "name": "ipython",
    "version": 3
   },
   "file_extension": ".py",
   "mimetype": "text/x-python",
   "name": "python",
   "nbconvert_exporter": "python",
   "pygments_lexer": "ipython3",
   "version": "3.11.7"
  }
 },
 "nbformat": 4,
 "nbformat_minor": 5
}
