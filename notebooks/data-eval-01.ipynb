{
 "cells": [
  {
   "cell_type": "code",
   "execution_count": 1,
   "id": "2ee83f31",
   "metadata": {},
   "outputs": [],
   "source": [
    "import pandas as pd "
   ]
  },
  {
   "cell_type": "code",
   "execution_count": 7,
   "id": "7bc46782",
   "metadata": {},
   "outputs": [],
   "source": [
    "positive_case = pd.read_csv('/Users/adamkirstein/Code/EchoLock/data/positive_cases/positive_labels.csv')\n",
    "negative_case = pd.read_csv('/Users/adamkirstein/Code/EchoLock/data/negative_cases/negative_labels.csv')"
   ]
  },
  {
   "cell_type": "code",
   "execution_count": 18,
   "id": "eca913c9",
   "metadata": {},
   "outputs": [
    {
     "data": {
      "text/plain": [
       "33.26737897375017"
      ]
     },
     "execution_count": 18,
     "metadata": {},
     "output_type": "execute_result"
    }
   ],
   "source": [
    "(len(positive_case.label)/len(negative_case.label)) *100"
   ]
  },
  {
   "cell_type": "code",
   "execution_count": 17,
   "id": "73c0e193",
   "metadata": {},
   "outputs": [
    {
     "data": {
      "text/plain": [
       "7581"
      ]
     },
     "execution_count": 17,
     "metadata": {},
     "output_type": "execute_result"
    }
   ],
   "source": []
  },
  {
   "cell_type": "code",
   "execution_count": null,
   "id": "aa753ab0",
   "metadata": {},
   "outputs": [],
   "source": []
  }
 ],
 "metadata": {
  "kernelspec": {
   "display_name": "Python 3 (ipykernel)",
   "language": "python",
   "name": "python3"
  },
  "language_info": {
   "codemirror_mode": {
    "name": "ipython",
    "version": 3
   },
   "file_extension": ".py",
   "mimetype": "text/x-python",
   "name": "python",
   "nbconvert_exporter": "python",
   "pygments_lexer": "ipython3",
   "version": "3.11.7"
  }
 },
 "nbformat": 4,
 "nbformat_minor": 5
}
