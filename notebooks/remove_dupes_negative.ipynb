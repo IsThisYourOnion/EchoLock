{
 "cells": [
  {
   "cell_type": "code",
   "execution_count": 1,
   "id": "d5a369bd",
   "metadata": {},
   "outputs": [
    {
     "name": "stdout",
     "output_type": "stream",
     "text": [
      "Updated CSV saved to /Users/adamkirstein/Code/EchoLock/data/negative_cases/UrbanSound8K_updated.csv\n"
     ]
    }
   ],
   "source": [
    "import os\n",
    "import pandas as pd\n",
    "\n",
    "# Define the directory and CSV file path\n",
    "negative_cases_dir = '/Users/adamkirstein/Code/EchoLock/data/negative_cases'\n",
    "csv_file_path = '/Users/adamkirstein/Code/EchoLock/data/negative_cases/UrbanSound8K.csv'\n",
    "\n",
    "# Load the CSV file\n",
    "urban_sound_df = pd.read_csv(csv_file_path)\n",
    "\n",
    "# Filter out entries from fold 6 and gun shot class (assuming classID for gun shot, adjust accordingly)\n",
    "urban_sound_df_filtered = urban_sound_df[(urban_sound_df['fold'] != 6) & (urban_sound_df['class'] != 'gun_shot')]\n",
    "\n",
    "# Update to only include filename and a label of '0'\n",
    "urban_sound_df_final = urban_sound_df_filtered[['slice_file_name']].copy()\n",
    "urban_sound_df_final['label'] = 0\n",
    "\n",
    "# Get the list of valid .wav files from the directory (simulate here, you should use os.listdir(negative_cases_dir))\n",
    "valid_filenames = set(os.listdir(negative_cases_dir))  # This should be the actual code line\n",
    "# For the script, assuming valid_filenames is populated with the actual file names from the directory\n",
    "\n",
    "# Filter the dataframe to only include files present in the directory\n",
    "urban_sound_df_final = urban_sound_df_final[urban_sound_df_final['slice_file_name'].isin(valid_filenames)]\n",
    "\n",
    "# Save the updated CSV file\n",
    "updated_csv_file_path = '/Users/adamkirstein/Code/EchoLock/data/negative_cases/UrbanSound8K_updated.csv'\n",
    "urban_sound_df_final.to_csv(updated_csv_file_path, index=False)\n",
    "\n",
    "print(f\"Updated CSV saved to {updated_csv_file_path}\")\n"
   ]
  },
  {
   "cell_type": "code",
   "execution_count": null,
   "id": "87982cac",
   "metadata": {},
   "outputs": [],
   "source": []
  }
 ],
 "metadata": {
  "kernelspec": {
   "display_name": "Python 3 (ipykernel)",
   "language": "python",
   "name": "python3"
  },
  "language_info": {
   "codemirror_mode": {
    "name": "ipython",
    "version": 3
   },
   "file_extension": ".py",
   "mimetype": "text/x-python",
   "name": "python",
   "nbconvert_exporter": "python",
   "pygments_lexer": "ipython3",
   "version": "3.11.7"
  }
 },
 "nbformat": 4,
 "nbformat_minor": 5
}
