{
 "cells": [
  {
   "cell_type": "code",
   "execution_count": 2,
   "id": "ef9a7eda",
   "metadata": {},
   "outputs": [
    {
     "name": "stdout",
     "output_type": "stream",
     "text": [
      "File saved to /Users/adamkirstein/Code/EchoLock/data/negative_cases/negative_labels.csv\n"
     ]
    },
    {
     "name": "stderr",
     "output_type": "stream",
     "text": [
      "/var/folders/_l/dg0nm38x19153ktzc9qkkm6c0000gn/T/ipykernel_64458/2301038319.py:11: SettingWithCopyWarning: \n",
      "A value is trying to be set on a copy of a slice from a DataFrame.\n",
      "Try using .loc[row_indexer,col_indexer] = value instead\n",
      "\n",
      "See the caveats in the documentation: https://pandas.pydata.org/pandas-docs/stable/user_guide/indexing.html#returning-a-view-versus-a-copy\n",
      "  df_reduced['label'] = 0\n"
     ]
    }
   ],
   "source": [
    "import pandas as pd\n",
    "\n",
    "# Load the dataset\n",
    "file_path = '/Users/adamkirstein/Code/EchoLock/data/negative_cases/UrbanSound8K.csv'  # Change this to your file path\n",
    "df = pd.read_csv(file_path)\n",
    "\n",
    "# Remove all columns except for 'slice_file_name'\n",
    "df_reduced = df[['slice_file_name']]\n",
    "\n",
    "# Add a label column set to '0'\n",
    "df_reduced['label'] = 0\n",
    "\n",
    "# Remove records from fold 6 or with gunshot label (classID 6)\n",
    "# Note: Adjust the condition for removing gunshot label if 'classID' does not represent the correct column\n",
    "df_filtered = df_reduced[(df['fold'] != 6) & (df['classID'] != 6)]\n",
    "\n",
    "# Save the modified dataframe to a new CSV file\n",
    "output_file_path = '/Users/adamkirstein/Code/EchoLock/data/negative_cases/negative_labels.csv'  # Change this to your desired output path\n",
    "df_filtered.to_csv(output_file_path, index=False)\n",
    "\n",
    "print(f\"File saved to {output_file_path}\")\n"
   ]
  },
  {
   "cell_type": "code",
   "execution_count": null,
   "id": "a5fb7949",
   "metadata": {},
   "outputs": [],
   "source": []
  }
 ],
 "metadata": {
  "kernelspec": {
   "display_name": "Python 3 (ipykernel)",
   "language": "python",
   "name": "python3"
  },
  "language_info": {
   "codemirror_mode": {
    "name": "ipython",
    "version": 3
   },
   "file_extension": ".py",
   "mimetype": "text/x-python",
   "name": "python",
   "nbconvert_exporter": "python",
   "pygments_lexer": "ipython3",
   "version": "3.11.7"
  }
 },
 "nbformat": 4,
 "nbformat_minor": 5
}
